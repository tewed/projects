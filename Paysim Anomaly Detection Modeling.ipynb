{
 "cells": [
  {
   "cell_type": "code",
   "execution_count": 12,
   "metadata": {},
   "outputs": [],
   "source": [
    "import xgboost as xgb\n",
    "import pandas as pd\n",
    "\n",
    "from sklearn.model_selection import GridSearchCV\n",
    "from sklearn.metrics import classification_report, ConfusionMatrixDisplay, RocCurveDisplay"
   ]
  },
  {
   "cell_type": "code",
   "execution_count": null,
   "metadata": {},
   "outputs": [],
   "source": [
    "# define helper functions\n",
    "\n",
    "def lift_score(estimator, X, y):\n",
    "    \"\"\"\n",
    "    Calculate the lift score for each probability decile using a given estimator.\n",
    "\n",
    "    The function computes the lift score for each decile of predicted probabilities.\n",
    "    Lift score is a measure used in classification models to evaluate the performance\n",
    "    of the model. It compares the response rate within a decile of predicted probabilities\n",
    "    to the average response rate across all observations.\n",
    "\n",
    "    Parameters:\n",
    "    -----------\n",
    "    estimator : object\n",
    "        A fitted estimator object that has a `predict_proba` method.\n",
    "    X : array-like, shape (n_samples, n_features)\n",
    "        The input data used to generate predictions.\n",
    "    y : array-like, shape (n_samples,)\n",
    "        The true binary labels (0 or 1).\n",
    "\n",
    "    Returns:\n",
    "    --------\n",
    "    lift_group : pandas.DataFrame\n",
    "        A DataFrame with the following columns:\n",
    "        - `decile`: The decile rank (1 to 10, where 1 is the highest predicted probability).\n",
    "        - `response_rate`: The average response rate (proportion of 1s) within each decile.\n",
    "        - `count`: The number of samples within each decile.\n",
    "        - `lift`: The lift score, which is the response rate in the decile divided by the\n",
    "          overall mean response rate.\n",
    "\n",
    "    Notes:\n",
    "    ------\n",
    "    - The function uses `pd.qcut` to divide the predicted probabilities into deciles.\n",
    "    - The `predict_proba` method is assumed to return probabilities for the positive class (1).\n",
    "    \"\"\"\n",
    "\n",
    "    lift = pd.DataFrame()\n",
    "    lift['response'] = y\n",
    "    lift['predicted_response'] = estimator.predict_proba(X)[:,1]\n",
    "    lift['decile_rank'] = 10 - pd.qcut(lift['predicted_response'], 10, labels = False, duplicates=\"drop\")\n",
    "    mean_response_rate = lift['response'].mean()\n",
    "\n",
    "    lift_group = lift.groupby('deciler_rank').agg({'response':['mean', 'count']})\n",
    "    lift_group.reset_index(level=0, inplace=True)\n",
    "    lift_group.columns = ['decile', 'response_rate', 'count']\n",
    "    lift['lift'] = lift_group['response_rate']/mean_response_rate\n",
    "    return lift_group\n",
    "\n"
   ]
  },
  {
   "cell_type": "code",
   "execution_count": 2,
   "metadata": {},
   "outputs": [],
   "source": [
    "train = pd.read_csv('train.csv')\n",
    "test = pd.read_csv('test.csv')"
   ]
  },
  {
   "cell_type": "code",
   "execution_count": 4,
   "metadata": {},
   "outputs": [
    {
     "data": {
      "text/plain": [
       "['Unnamed: 0',\n",
       " 'amount',\n",
       " 'oldbalanceOrig',\n",
       " 'newbalanceOrig',\n",
       " 'oldbalanceDest',\n",
       " 'newbalanceDest',\n",
       " 'merchOrig',\n",
       " 'merchDest',\n",
       " 'merchInvolved',\n",
       " 'origBalanceCleared',\n",
       " 'amount_eq_bal',\n",
       " 'prev_orig_steps_num',\n",
       " 'prev_orig_avg_amount',\n",
       " 'prev_orig_fraud_max',\n",
       " 'prev_orig_txn_hour_avg',\n",
       " 'prev_orig_merchInvolved_total',\n",
       " 'prev_orig_merch_orig_sum',\n",
       " 'prev_orig_merchDest_sum',\n",
       " 'prev_dest_steps_num',\n",
       " 'prev_dest_avg_amount',\n",
       " 'prev_dest_fraud_max',\n",
       " 'prev_dest_txn_hour_avg',\n",
       " 'prev_dest_merchInvolved_total',\n",
       " 'prev_dest_merch_orig_sum',\n",
       " 'prev_dest_merchDest_sum',\n",
       " 'log_oldbalanceOrig',\n",
       " 'log_newbalanceOrig',\n",
       " 'log_oldbalanceDest',\n",
       " 'log_newbalanceDest',\n",
       " 'log_amount',\n",
       " 'log_prev_orig_avg_amount',\n",
       " 'log_prev_dest_avg_amount',\n",
       " 'hour_diff_orig',\n",
       " 'hour_diff_dest',\n",
       " 'amt_diff_orig',\n",
       " 'amt_diff_dest',\n",
       " 'missingindicator_prev_orig_steps_num',\n",
       " 'missingindicator_prev_orig_avg_amount',\n",
       " 'missingindicator_prev_orig_fraud_max',\n",
       " 'missingindicator_prev_orig_txn_hour_avg',\n",
       " 'missingindicator_prev_orig_merchInvolved_total',\n",
       " 'missingindicator_prev_orig_merch_orig_sum',\n",
       " 'missingindicator_prev_orig_merchDest_sum',\n",
       " 'missingindicator_prev_dest_steps_num',\n",
       " 'missingindicator_prev_dest_avg_amount',\n",
       " 'missingindicator_prev_dest_fraud_max',\n",
       " 'missingindicator_prev_dest_txn_hour_avg',\n",
       " 'missingindicator_prev_dest_merchInvolved_total',\n",
       " 'missingindicator_prev_dest_merch_orig_sum',\n",
       " 'missingindicator_prev_dest_merchDest_sum',\n",
       " 'missingindicator_log_prev_orig_avg_amount',\n",
       " 'missingindicator_log_prev_dest_avg_amount',\n",
       " 'missingindicator_hour_diff_orig',\n",
       " 'missingindicator_hour_diff_dest',\n",
       " 'missingindicator_amt_diff_orig',\n",
       " 'missingindicator_amt_diff_dest',\n",
       " 'txn_hour_1',\n",
       " 'txn_hour_2',\n",
       " 'txn_hour_3',\n",
       " 'txn_hour_4',\n",
       " 'txn_hour_5',\n",
       " 'txn_hour_6',\n",
       " 'txn_hour_7',\n",
       " 'txn_hour_8',\n",
       " 'txn_hour_9',\n",
       " 'txn_hour_10',\n",
       " 'txn_hour_11',\n",
       " 'txn_hour_12',\n",
       " 'txn_hour_13',\n",
       " 'txn_hour_14',\n",
       " 'txn_hour_15',\n",
       " 'txn_hour_16',\n",
       " 'txn_hour_17',\n",
       " 'txn_hour_18',\n",
       " 'txn_hour_19',\n",
       " 'txn_hour_20',\n",
       " 'txn_hour_21',\n",
       " 'txn_hour_22',\n",
       " 'txn_hour_23',\n",
       " 'type_CASH_OUT',\n",
       " 'type_DEBIT',\n",
       " 'type_PAYMENT',\n",
       " 'type_TRANSFER']"
      ]
     },
     "execution_count": 4,
     "metadata": {},
     "output_type": "execute_result"
    }
   ],
   "source": [
    "all_columns_fit = [col for col in train.columns if col not in ['step', 'isFraud', 'isFlaggedFraud', 'nameOrig', 'nameDest' ]]\n",
    "all_columns_fit"
   ]
  },
  {
   "cell_type": "code",
   "execution_count": 15,
   "metadata": {},
   "outputs": [],
   "source": [
    "xgb_clf = xgb.XGBClassifier(tree_method=\"hist\", random_state =123)\n",
    "\n",
    "xgb_model = clf.fit( train[all_columns_fit], train['isFraud'] )\n",
    "\n",
    "\n"
   ]
  },
  {
   "cell_type": "code",
   "execution_count": null,
   "metadata": {},
   "outputs": [],
   "source": []
  },
  {
   "cell_type": "code",
   "execution_count": null,
   "metadata": {},
   "outputs": [],
   "source": []
  },
  {
   "cell_type": "code",
   "execution_count": null,
   "metadata": {},
   "outputs": [],
   "source": []
  },
  {
   "cell_type": "code",
   "execution_count": null,
   "metadata": {},
   "outputs": [],
   "source": []
  },
  {
   "cell_type": "code",
   "execution_count": null,
   "metadata": {},
   "outputs": [],
   "source": []
  }
 ],
 "metadata": {
  "kernelspec": {
   "display_name": "Python 3",
   "language": "python",
   "name": "python3"
  },
  "language_info": {
   "codemirror_mode": {
    "name": "ipython",
    "version": 3
   },
   "file_extension": ".py",
   "mimetype": "text/x-python",
   "name": "python",
   "nbconvert_exporter": "python",
   "pygments_lexer": "ipython3",
   "version": "3.11.0"
  }
 },
 "nbformat": 4,
 "nbformat_minor": 2
}
